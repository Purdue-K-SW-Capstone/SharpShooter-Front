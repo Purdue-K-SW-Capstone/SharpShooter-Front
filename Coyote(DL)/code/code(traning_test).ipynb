{
  "cells": [
    {
      "cell_type": "code",
      "execution_count": 1,
      "metadata": {
        "id": "QBVgtwEB6Tnb",
        "colab": {
          "base_uri": "https://localhost:8080/"
        },
        "outputId": "cd5121d3-5d68-4578-dfbd-e22e9b26ec8c"
      },
      "outputs": [
        {
          "output_type": "stream",
          "name": "stdout",
          "text": [
            "Mounted at /content/drive\n"
          ]
        }
      ],
      "source": [
        "from google.colab import drive\n",
        "drive.mount('/content/drive')"
      ],
      "id": "QBVgtwEB6Tnb"
    },
    {
      "cell_type": "code",
      "execution_count": 2,
      "metadata": {
        "id": "PYzk-BsG8h4P",
        "colab": {
          "base_uri": "https://localhost:8080/"
        },
        "outputId": "317139b7-e963-45e9-aa33-ec1649b89b68"
      },
      "outputs": [
        {
          "output_type": "stream",
          "name": "stdout",
          "text": [
            "/content/drive/MyDrive/coyote_pj\n"
          ]
        }
      ],
      "source": [
        "%cd /content/drive/MyDrive/coyote_pj"
      ],
      "id": "PYzk-BsG8h4P"
    },
    {
      "cell_type": "code",
      "execution_count": 3,
      "metadata": {
        "id": "nR6btvfR9G86"
      },
      "outputs": [],
      "source": [
        "# !unzip -qq COYOTE-final.zip"
      ],
      "id": "nR6btvfR9G86"
    },
    {
      "cell_type": "markdown",
      "metadata": {
        "id": "0cfEF3EK250Y"
      },
      "source": [
        "## Import module"
      ],
      "id": "0cfEF3EK250Y"
    },
    {
      "cell_type": "code",
      "execution_count": 4,
      "metadata": {
        "id": "454af237-faf3-4c40-8737-82c700207d7a"
      },
      "outputs": [],
      "source": [
        "import librosa \n",
        "import librosa.display as dsp\n",
        "from IPython.display import Audio"
      ],
      "id": "454af237-faf3-4c40-8737-82c700207d7a"
    },
    {
      "cell_type": "code",
      "execution_count": 5,
      "metadata": {
        "id": "c9ce686b-30ac-4cba-9767-6130a83e3192"
      },
      "outputs": [],
      "source": [
        "import pandas as pd\n",
        "import numpy as np\n",
        "from tqdm import tqdm\n",
        "import os"
      ],
      "id": "c9ce686b-30ac-4cba-9767-6130a83e3192"
    },
    {
      "cell_type": "code",
      "execution_count": 6,
      "metadata": {
        "id": "735bd94b-0de0-475b-bff6-01bdcae9c087",
        "colab": {
          "base_uri": "https://localhost:8080/"
        },
        "outputId": "974102e4-78ff-4ba4-8bc2-31665fb43319"
      },
      "outputs": [
        {
          "output_type": "stream",
          "name": "stdout",
          "text": [
            "cuda\n"
          ]
        }
      ],
      "source": [
        "import torch\n",
        "import torchvision.datasets as datasets \n",
        "import torchvision.transforms as transforms  \n",
        "from torch.utils.data import DataLoader \n",
        "from torch.utils.data import DataLoader, Dataset\n",
        "\n",
        "import torch.optim as optim  \n",
        "\n",
        "device = torch.device('cuda') if torch.cuda.is_available() else torch.device('cpu') \n",
        "print(device)"
      ],
      "id": "735bd94b-0de0-475b-bff6-01bdcae9c087"
    },
    {
      "cell_type": "markdown",
      "metadata": {
        "id": "0ZUJCzIBpRxd"
      },
      "source": [
        "## Hyper-parameter Setting"
      ],
      "id": "0ZUJCzIBpRxd"
    },
    {
      "cell_type": "code",
      "execution_count": 7,
      "metadata": {
        "id": "d53eca8a-2506-40ba-bc1c-e1d0541f2834",
        "colab": {
          "base_uri": "https://localhost:8080/"
        },
        "outputId": "673e1545-c1f7-4345-dadb-5398a705fa9c"
      },
      "outputs": [
        {
          "output_type": "stream",
          "name": "stdout",
          "text": [
            "epoch : 100 \n",
            " batch : 10 \n",
            " lr : 0.001\n"
          ]
        }
      ],
      "source": [
        "mini = 7296\n",
        "num_epochs = 100\n",
        "batch_size = 10\n",
        "learning_rate = 1e-3\n",
        "print(f'epoch : {num_epochs} \\n batch : {batch_size} \\n lr : {learning_rate}')"
      ],
      "id": "d53eca8a-2506-40ba-bc1c-e1d0541f2834"
    },
    {
      "cell_type": "markdown",
      "metadata": {
        "id": "qyIl-plQpV1m"
      },
      "source": [
        "## Dataset & DataLoader"
      ],
      "id": "qyIl-plQpV1m"
    },
    {
      "cell_type": "code",
      "execution_count": 8,
      "metadata": {
        "id": "f12e1d68-73a5-4959-a053-6a87c4ab336d"
      },
      "outputs": [],
      "source": [
        "class CustomDataset(Dataset):\n",
        "    def __init__(self, file_path, train_mode=True, transforms=None): \n",
        "        self.csv = pd.read_csv(file_path)\n",
        "        self.train_mode = train_mode\n",
        "        self.transforms = transforms\n",
        "\n",
        "    def __len__(self): \n",
        "        # return 10 #DEBUG\n",
        "        return self.csv.shape[0]\n",
        "    \n",
        "    def __getitem__(self, index): \n",
        "        file_name = self.csv.iloc[index].file_name\n",
        "        audio, sr = librosa.load(f'/content/drive/MyDrive/coyote_pj/data/dataset_all/{file_name}', sr = 16000)\n",
        "        audio = librosa.feature.mfcc(y=audio, sr=sr, n_mfcc=40)  \n",
        "        audio = np.array(audio)\n",
        "        audio = audio.reshape(audio.shape[0], audio.shape[1], 1)  \n",
        "        \n",
        "        label = self.csv.iloc[index].label\n",
        "        # label = classes[label]\n",
        "        \n",
        "        if self.transforms is not None:  \n",
        "            audio = self.transforms(audio)\n",
        "\n",
        "        return audio, label  "
      ],
      "id": "f12e1d68-73a5-4959-a053-6a87c4ab336d"
    },
    {
      "cell_type": "code",
      "execution_count": 9,
      "metadata": {
        "id": "e183edb9-42cc-47aa-8918-9bdf6fa00c18"
      },
      "outputs": [],
      "source": [
        "train_dataset = CustomDataset('./train.csv', train_mode = True, transforms = None) # *****\n",
        "train_loader = DataLoader(train_dataset, batch_size = batch_size, shuffle=True, num_workers=2)\n",
        "\n",
        "vali_dataset = CustomDataset('./valid.csv', train_mode = False, transforms = None)\n",
        "vali_loader = DataLoader(vali_dataset, batch_size = batch_size, shuffle=False, num_workers=2)"
      ],
      "id": "e183edb9-42cc-47aa-8918-9bdf6fa00c18"
    },
    {
      "cell_type": "code",
      "execution_count": 10,
      "metadata": {
        "id": "e0b9dc7f-d1db-4090-8356-a8f8389485b6",
        "colab": {
          "base_uri": "https://localhost:8080/"
        },
        "outputId": "ad20e0ee-545c-4aea-dcce-424032777356"
      },
      "outputs": [
        {
          "output_type": "stream",
          "name": "stdout",
          "text": [
            "/ total train batches : 116\n",
            "/ total valid batches : 28\n"
          ]
        }
      ],
      "source": [
        "train_batches = len(train_loader)\n",
        "vali_batches = len(vali_loader)\n",
        "\n",
        "print('/ total train batches :', train_batches)\n",
        "print('/ total valid batches :', vali_batches)"
      ],
      "id": "e0b9dc7f-d1db-4090-8356-a8f8389485b6"
    },
    {
      "cell_type": "markdown",
      "metadata": {
        "id": "c4af5d0e-f8d5-48e7-9435-e58e7a54feb7"
      },
      "source": [
        "## Model design"
      ],
      "id": "c4af5d0e-f8d5-48e7-9435-e58e7a54feb7"
    },
    {
      "cell_type": "code",
      "execution_count": 11,
      "metadata": {
        "id": "61bbfd34-ae9d-4a70-b36d-d7ce90403ebb"
      },
      "outputs": [],
      "source": [
        "from tqdm.auto import tqdm\n",
        "import torch.nn as nn # 신경망들이 포함됨\n",
        "\n",
        "class CNNclassification(torch.nn.Module):\n",
        "    def __init__(self):\n",
        "        super(CNNclassification, self).__init__()\n",
        "        self.layer1 = torch.nn.Sequential(\n",
        "            nn.Conv2d(40, 10, kernel_size=2, stride=1, padding=1), #cnn layer\n",
        "            nn.ReLU(), #activation function\n",
        "            nn.MaxPool2d(kernel_size=2, stride=2)) #pooling layer\n",
        "        \n",
        "        self.layer2 = torch.nn.Sequential(\n",
        "            nn.Conv2d(10, 100, kernel_size=2, stride=1, padding=1), #cnn layer\n",
        "            nn.ReLU(), #activation function\n",
        "            nn.MaxPool2d(kernel_size=2, stride=2)) #pooling layer\n",
        "        \n",
        "        self.layer3 = torch.nn.Sequential(\n",
        "            nn.Conv2d(100, 200, kernel_size=2, stride=1, padding=1), #cnn layer\n",
        "            nn.ReLU(), #activation function\n",
        "            nn.MaxPool2d(kernel_size=2, stride=2)) #pooling layer\n",
        "        \n",
        "        self.layer4 = torch.nn.Sequential(\n",
        "            nn.Conv2d(200, 300, kernel_size=2, stride=1, padding=1), #cnn layer\n",
        "            nn.ReLU(), #activation function\n",
        "            nn.MaxPool2d(kernel_size=2, stride=2)) #pooling layer\n",
        "        \n",
        "        self.fc_layer = nn.Sequential( \n",
        "            nn.Linear(4000, 2) #fully connected layer(ouput layer)\n",
        "            # ***** 300 수정, class 개수 수정\n",
        "        )    \n",
        "        \n",
        "    def forward(self, x):\n",
        "        \n",
        "        x = self.layer1(x) #1층\n",
        "        \n",
        "        x = self.layer2(x) #2층\n",
        "         \n",
        "        x = self.layer3(x) #3층\n",
        "               \n",
        "        x = torch.flatten(x, start_dim=1) # N차원 배열 -> 1차원 배열\n",
        "\n",
        "        out = self.fc_layer(x)\n",
        "        return out"
      ],
      "id": "61bbfd34-ae9d-4a70-b36d-d7ce90403ebb"
    },
    {
      "cell_type": "markdown",
      "metadata": {
        "id": "383b5788-f619-47b7-9a8a-bbd26db8612a"
      },
      "source": [
        "## Traning Model"
      ],
      "id": "383b5788-f619-47b7-9a8a-bbd26db8612a"
    },
    {
      "cell_type": "code",
      "execution_count": 12,
      "metadata": {
        "id": "f9a497f6-ec76-4b98-b35e-fb9c15718e0f"
      },
      "outputs": [],
      "source": [
        "model = CNNclassification().to(device)\n",
        "criterion = torch.nn.CrossEntropyLoss().to(device)\n",
        "# optimizer = torch.optim.SGD(params = model.parameters(), lr = 1e-3 )\n",
        "optimizer = optim.Adam(model.parameters(), lr=learning_rate)\n",
        "scheduler = None # ****** scheduler\n",
        "\n",
        "# scheduler_cosine = torch.optim.lr_scheduler.CosineAnnealingWarmRestarts(optimizer, args.n_epochs - 1)\n",
        "# scheduler_warmup = GradualWarmupSchedulerV2(optimizer, multiplier=10, total_epoch=1, after_scheduler=scheduler_cosine)"
      ],
      "id": "f9a497f6-ec76-4b98-b35e-fb9c15718e0f"
    },
    {
      "cell_type": "code",
      "execution_count": 13,
      "metadata": {
        "id": "c23fcb53-deac-47d8-b6ee-6d9913520ccc"
      },
      "outputs": [],
      "source": [
        "# model(torch.rand(10, 40, 12, 1).to(device))"
      ],
      "id": "c23fcb53-deac-47d8-b6ee-6d9913520ccc"
    },
    {
      "cell_type": "code",
      "execution_count": 14,
      "metadata": {
        "id": "a99cf975-1233-48e3-a181-b48e695cc3cc"
      },
      "outputs": [],
      "source": [
        "from tqdm.auto import tqdm\n",
        "\n",
        "import torch.nn.functional as F\n",
        "def train(model, optimizer, train_loader, scheduler, device): \n",
        "    model.to(device)\n",
        "    n = len(train_loader)\n",
        "    best_loss = np.inf\n",
        "    \n",
        "    for epoch in range(1,num_epochs): \n",
        "        model.train()  \n",
        "        running_loss = 0.0        \n",
        "        \n",
        "        for wav, label in tqdm(iter(train_loader)):\n",
        "            wav, label = wav.to(device), label.to(device) \n",
        "            optimizer.zero_grad()  \n",
        "        \n",
        "            # Data -> Model -> Output\n",
        "            logit = model(wav)  \n",
        "            ps = F.softmax(logit, dim=1)  \n",
        "            loss = criterion(logit, label)  \n",
        "             \n",
        "            loss.backward() \n",
        "            optimizer.step()  \n",
        "            running_loss += loss.item()\n",
        "        print(f'-----  Epoch {epoch} -----')     \n",
        "        print('Train loss: %.10f' %(running_loss / len(train_loader)))\n",
        "        \n",
        "        if scheduler is not None:\n",
        "            scheduler.step()\n",
        "            \n",
        "             \n",
        "        model.eval()  \n",
        "        vali_loss = 0.0\n",
        "        correct = 0\n",
        "\n",
        "        real_list = []\n",
        "        pred_list = []\n",
        "               \n",
        "        with torch.no_grad():  \n",
        "            for wav, label in tqdm(iter(vali_loader)):\n",
        "                \n",
        "                wav, label = wav.to(device), label.to(device)\n",
        "                logit = model(wav)\n",
        "                vali_loss += criterion(logit, label)\n",
        "                # print(logit)\n",
        "                pred = logit.argmax(dim=1, keepdim=False) \n",
        "                correct += pred.eq(label.view_as(pred)).sum().item() \n",
        "                real_list.extend(label.cpu().tolist())\n",
        "                pred_list.extend(pred.cpu().tolist())\n",
        "            print(real_list)\n",
        "            print(pred_list)\n",
        "            tmp = real_list == pred_list\n",
        "            # print(tmp)\n",
        "            print('acc : ', (tmp / len(real_list)) * 100)\n",
        "\n",
        "\n",
        "        vali_acc = 100 * correct / len(vali_loader.dataset)\n",
        "        vali_loss_total = vali_loss / len(vali_loader)\n",
        "        print('Vail set: Loss: {:.4f}, Accuracy: {}/{} ( {:.0f}%)\\n'.format(vali_loss / len(vali_loader), correct, len(vali_loader.dataset), 100 * correct / len(vali_loader.dataset)))\n",
        "\n",
        "        if best_loss > vali_loss_total:\n",
        "            best_loss = vali_loss_total\n",
        "            torch.save(model.state_dict(), './best_model_sr(16000).pth')  \n",
        "            print('Model Saved.')"
      ],
      "id": "a99cf975-1233-48e3-a181-b48e695cc3cc"
    },
    {
      "cell_type": "code",
      "execution_count": 15,
      "metadata": {
        "id": "4f08eca4-1d3b-49f5-8c34-3c67e209b5a4"
      },
      "outputs": [],
      "source": [
        "# train(model, optimizer, train_loader, scheduler, device)"
      ],
      "id": "4f08eca4-1d3b-49f5-8c34-3c67e209b5a4"
    },
    {
      "cell_type": "code",
      "execution_count": 16,
      "metadata": {
        "id": "af44eb0c-f8c8-4997-b753-73eda6b9a526"
      },
      "outputs": [],
      "source": [
        "best_model = CNNclassification().to(device)\n",
        "best_model.load_state_dict(torch.load('/content/drive/MyDrive/coyote_pj/best_model_sr(16000).pth', map_location=torch.device('cpu')))\n",
        "\n",
        "vali_dataset = CustomDataset('./valid.csv', train_mode = False, transforms = None)\n",
        "vali_loader = DataLoader(vali_dataset, batch_size = batch_size, shuffle=False, num_workers=2)"
      ],
      "id": "af44eb0c-f8c8-4997-b753-73eda6b9a526"
    },
    {
      "cell_type": "code",
      "execution_count": 17,
      "metadata": {
        "colab": {
          "base_uri": "https://localhost:8080/",
          "height": 141,
          "referenced_widgets": [
            "612ed812cd4a46aeb5276699228a1d30",
            "c91f2f26d1604e208d096c8bf8cdbf9d",
            "8a9a701893784a7fb3889ad97d78a7c6",
            "b0dd2ef0821a49f3b86262a13d62da57",
            "22c45007e3e54ab981a529727098b323",
            "420dccf14fe740c19628d2611dbf240a",
            "99cc2f61b1024faea2eead3d4145edc0",
            "2f7138ea6baf4597893274736b43e858",
            "2a693993a35741d9884b8e52531e6fc1",
            "876ea298e7ee4b7daac632b45296b14b",
            "3e5612d0a6fa438b842dda7f270176ee"
          ]
        },
        "id": "10993fda-74b5-4109-ad71-9a96604db019",
        "outputId": "be9a9079-f327-49be-fa50-30c4e869f641"
      },
      "outputs": [
        {
          "output_type": "display_data",
          "data": {
            "text/plain": [
              "  0%|          | 0/28 [00:00<?, ?it/s]"
            ],
            "application/vnd.jupyter.widget-view+json": {
              "version_major": 2,
              "version_minor": 0,
              "model_id": "612ed812cd4a46aeb5276699228a1d30"
            }
          },
          "metadata": {}
        },
        {
          "output_type": "stream",
          "name": "stdout",
          "text": [
            "[0, 0, 0, 1, 1, 1, 0, 0, 1, 1, 0, 0, 1, 0, 0, 0, 0, 0, 1, 0, 1, 0, 0, 1, 1, 1, 1, 0, 0, 1, 1, 0, 1, 1, 1, 0, 0, 0, 1, 1, 0, 1, 1, 0, 0, 0, 0, 1, 1, 0, 0, 0, 0, 1, 0, 0, 0, 1, 1, 1, 0, 0, 0, 1, 1, 1, 1, 1, 1, 0, 1, 0, 1, 0, 1, 1, 1, 0, 0, 0, 1, 1, 0, 0, 0, 1, 0, 1, 0, 0, 1, 1, 0, 0, 0, 0, 1, 1, 0, 0, 0, 0, 1, 1, 0, 0, 1, 0, 0, 0, 0, 1, 0, 1, 0, 1, 1, 0, 0, 1, 1, 1, 1, 0, 1, 1, 0, 1, 0, 1, 0, 0, 0, 1, 1, 1, 1, 0, 0, 1, 0, 1, 1, 0, 1, 1, 0, 0, 1, 0, 0, 0, 1, 1, 0, 1, 0, 1, 1, 0, 0, 0, 0, 0, 0, 1, 0, 0, 1, 0, 0, 0, 1, 0, 1, 1, 1, 0, 1, 1, 0, 1, 0, 0, 1, 0, 0, 1, 0, 0, 1, 1, 0, 1, 1, 0, 1, 1, 1, 1, 0, 0, 1, 0, 0, 1, 0, 0, 0, 1, 1, 0, 1, 1, 1, 1, 1, 1, 0, 0, 1, 0, 0, 0, 0, 0, 1, 1, 0, 1, 0, 1, 0, 0, 0, 0, 0, 1, 0, 0, 0, 1, 0, 1, 1, 0, 0, 1, 1, 1, 0, 0, 1, 0, 1, 0, 0, 1, 0, 1, 1, 0, 1, 1, 1, 1, 0, 1, 1, 0, 1, 0, 1, 1, 0, 1, 1, 0, 0, 1]\n",
            "[0, 0, 0, 1, 1, 1, 0, 0, 1, 1, 0, 0, 1, 0, 0, 0, 0, 0, 1, 0, 1, 1, 0, 1, 1, 1, 1, 0, 0, 1, 1, 0, 1, 1, 1, 0, 0, 0, 1, 1, 0, 1, 1, 0, 0, 0, 0, 1, 1, 0, 0, 0, 0, 1, 0, 0, 0, 1, 1, 1, 0, 0, 0, 1, 1, 1, 1, 1, 1, 0, 1, 0, 1, 0, 1, 1, 1, 0, 0, 0, 1, 1, 0, 0, 0, 1, 0, 1, 0, 0, 1, 1, 0, 0, 0, 0, 1, 1, 0, 0, 0, 0, 1, 1, 0, 0, 1, 0, 0, 0, 0, 1, 0, 1, 0, 1, 1, 0, 0, 1, 1, 1, 1, 0, 1, 1, 0, 1, 0, 1, 0, 0, 0, 1, 1, 1, 1, 0, 0, 1, 0, 1, 1, 0, 1, 1, 0, 0, 1, 0, 0, 0, 1, 1, 0, 1, 0, 1, 1, 0, 0, 0, 0, 0, 0, 1, 0, 0, 1, 0, 0, 0, 1, 0, 1, 1, 1, 0, 1, 1, 0, 1, 0, 0, 1, 0, 0, 1, 0, 0, 1, 1, 0, 1, 1, 0, 1, 1, 1, 1, 0, 0, 1, 0, 0, 1, 0, 0, 0, 1, 1, 0, 1, 1, 1, 1, 1, 1, 0, 0, 1, 0, 0, 0, 0, 0, 1, 1, 0, 1, 0, 1, 0, 0, 0, 0, 0, 1, 0, 0, 0, 1, 0, 1, 1, 0, 0, 1, 1, 1, 0, 0, 1, 0, 1, 0, 0, 1, 0, 1, 1, 0, 1, 1, 1, 1, 0, 1, 1, 0, 1, 0, 1, 1, 0, 1, 1, 0, 0, 1]\n",
            "Vail set: Loss: 0.0116, Accuracy: 279/280 ( 100%)\n",
            "\n"
          ]
        }
      ],
      "source": [
        "best_model.eval() \n",
        "vali_loss = 0.0\n",
        "correct = 0\n",
        "\n",
        "real_list = []\n",
        "pred_list = []\n",
        "prob_list = []\n",
        "\n",
        "with torch.no_grad():  \n",
        "    for wav, label in tqdm(iter(vali_loader)):\n",
        "        \n",
        "        wav, label = wav.to(device), label.to(device)\n",
        "        logit = best_model(wav)\n",
        "        vali_loss += criterion(logit, label)\n",
        "\n",
        "        ps = F.softmax(logit, dim=1)\n",
        "        # top_p, top_class = ps.topk(1, dim=1)\n",
        "\n",
        "        pred = logit.argmax(dim=1, keepdim=False)   \n",
        "        correct += pred.eq(label.view_as(pred)).sum().item()  \n",
        "        real_list.extend(label.cpu().tolist())\n",
        "        pred_list.extend(pred.cpu().tolist())\n",
        "        prob_list.extend(ps.cpu().tolist())\n",
        "\n",
        "print(real_list)\n",
        "print(pred_list)\n",
        "\n",
        "vali_acc = 100 * correct / len(vali_loader.dataset)\n",
        "vali_loss_total = vali_loss / len(vali_loader)\n",
        "print('Vail set: Loss: {:.4f}, Accuracy: {}/{} ( {:.0f}%)\\n'.format(vali_loss / len(vali_loader), correct, len(vali_loader.dataset), 100 * correct / len(vali_loader.dataset)))"
      ],
      "id": "10993fda-74b5-4109-ad71-9a96604db019"
    },
    {
      "cell_type": "markdown",
      "metadata": {
        "id": "DBNNdJ3jkbTs"
      },
      "source": [
        "### Confusion Matrix & ROC curve"
      ],
      "id": "DBNNdJ3jkbTs"
    },
    {
      "cell_type": "code",
      "execution_count": 18,
      "metadata": {
        "id": "-vj6u6KUWqzY"
      },
      "outputs": [],
      "source": [
        "real_list = np.array(np.int64(real_list))\n",
        "pred_list = np.array(np.int64(pred_list))"
      ],
      "id": "-vj6u6KUWqzY"
    },
    {
      "cell_type": "code",
      "source": [
        "import matplotlib.pyplot as plt\n",
        "from sklearn.metrics import confusion_matrix, ConfusionMatrixDisplay \n",
        "\n",
        "cm = confusion_matrix(pred_list, real_list, normalize='all') \n",
        "plt.rcParams.update({'font.size': 12})\n",
        "cmd = ConfusionMatrixDisplay(cm, display_labels=['Non-Coyote','Coyote'])\n",
        "cmd.plot(cmap=plt.cm.Blues)\n",
        "cmd.ax_.set_title('Confusion Matrix\\n',fontsize = 14)\n",
        "plt.xlabel('Predicted', fontsize=10)\n",
        "plt.ylabel('Actual', fontsize=10, rotation = 90)\n",
        "plt.savefig(f'/content/drive/MyDrive/coyote_pj/confusion_mat') \n",
        "plt.show()\n"
      ],
      "metadata": {
        "colab": {
          "base_uri": "https://localhost:8080/",
          "height": 316
        },
        "id": "okwJonWVtyIA",
        "outputId": "4d38e63d-93bb-473d-fc6d-aa77afb4949f"
      },
      "id": "okwJonWVtyIA",
      "execution_count": 19,
      "outputs": [
        {
          "output_type": "display_data",
          "data": {
            "text/plain": [
              "<Figure size 432x288 with 2 Axes>"
            ],
            "image/png": "[encoded data removed]"
          },
          "metadata": {
            "needs_background": "light"
          }
        }
      ]
    },
    {
      "cell_type": "code",
      "execution_count": 20,
      "metadata": {
        "id": "r6-UjuzOYHc9"
      },
      "outputs": [],
      "source": [
        "import sklearn\n",
        "# pred_list\n",
        "cf_matrix = sklearn.metrics.confusion_matrix(np.array(real_list), np.array(pred_list))"
      ],
      "id": "r6-UjuzOYHc9"
    },
    {
      "cell_type": "code",
      "execution_count": 21,
      "metadata": {
        "id": "LmuGAAWekpZ4"
      },
      "outputs": [],
      "source": [
        "# from sklearn.metrics.pairwise import normalize\n",
        "# import seaborn as sns\n",
        "# import matplotlib.pyplot as plt\n",
        "\n",
        "# label=['Coyote', 'Non-Coyote'] # 라벨 설정\n",
        "# sns.heatmap(cf_matrix, annot=True, annot_kws={'size':12}, cmap ='Blues', fmt ='d', label = label)\n",
        "# plt.savefig(f'/content/drive/MyDrive/coyote_pj/confusion_mat') "
      ],
      "id": "LmuGAAWekpZ4"
    },
    {
      "cell_type": "code",
      "source": [
        "!pip install scikit-plot"
      ],
      "metadata": {
        "colab": {
          "base_uri": "https://localhost:8080/"
        },
        "id": "sH7Qb8ZujVjb",
        "outputId": "2fe6cef9-07f8-4449-ce94-6e2f0d362790"
      },
      "id": "sH7Qb8ZujVjb",
      "execution_count": 22,
      "outputs": [
        {
          "output_type": "stream",
          "name": "stdout",
          "text": [
            "Looking in indexes: https://pypi.org/simple, https://us-python.pkg.dev/colab-wheels/public/simple/\n",
            "Collecting scikit-plot\n",
            "  Downloading scikit_plot-0.3.7-py3-none-any.whl (33 kB)\n",
            "Requirement already satisfied: matplotlib>=1.4.0 in /usr/local/lib/python3.7/dist-packages (from scikit-plot) (3.2.2)\n",
            "Requirement already satisfied: joblib>=0.10 in /usr/local/lib/python3.7/dist-packages (from scikit-plot) (1.2.0)\n",
            "Requirement already satisfied: scipy>=0.9 in /usr/local/lib/python3.7/dist-packages (from scikit-plot) (1.7.3)\n",
            "Requirement already satisfied: scikit-learn>=0.18 in /usr/local/lib/python3.7/dist-packages (from scikit-plot) (1.0.2)\n",
            "Requirement already satisfied: cycler>=0.10 in /usr/local/lib/python3.7/dist-packages (from matplotlib>=1.4.0->scikit-plot) (0.11.0)\n",
            "Requirement already satisfied: pyparsing!=2.0.4,!=2.1.2,!=2.1.6,>=2.0.1 in /usr/local/lib/python3.7/dist-packages (from matplotlib>=1.4.0->scikit-plot) (3.0.9)\n",
            "Requirement already satisfied: python-dateutil>=2.1 in /usr/local/lib/python3.7/dist-packages (from matplotlib>=1.4.0->scikit-plot) (2.8.2)\n",
            "Requirement already satisfied: kiwisolver>=1.0.1 in /usr/local/lib/python3.7/dist-packages (from matplotlib>=1.4.0->scikit-plot) (1.4.4)\n",
            "Requirement already satisfied: numpy>=1.11 in /usr/local/lib/python3.7/dist-packages (from matplotlib>=1.4.0->scikit-plot) (1.21.6)\n",
            "Requirement already satisfied: typing-extensions in /usr/local/lib/python3.7/dist-packages (from kiwisolver>=1.0.1->matplotlib>=1.4.0->scikit-plot) (4.1.1)\n",
            "Requirement already satisfied: six>=1.5 in /usr/local/lib/python3.7/dist-packages (from python-dateutil>=2.1->matplotlib>=1.4.0->scikit-plot) (1.15.0)\n",
            "Requirement already satisfied: threadpoolctl>=2.0.0 in /usr/local/lib/python3.7/dist-packages (from scikit-learn>=0.18->scikit-plot) (3.1.0)\n",
            "Installing collected packages: scikit-plot\n",
            "Successfully installed scikit-plot-0.3.7\n"
          ]
        }
      ]
    },
    {
      "cell_type": "code",
      "execution_count": 23,
      "metadata": {
        "colab": {
          "base_uri": "https://localhost:8080/",
          "height": 358
        },
        "id": "GjiIs6CmdoyS",
        "outputId": "15da225c-708c-4ce0-8114-6b1a1fb13c28"
      },
      "outputs": [
        {
          "output_type": "stream",
          "name": "stderr",
          "text": [
            "/usr/local/lib/python3.7/dist-packages/sklearn/utils/deprecation.py:87: FutureWarning: Function plot_roc_curve is deprecated; This will be removed in v0.5.0. Please use scikitplot.metrics.plot_roc instead.\n",
            "  warnings.warn(msg, category=FutureWarning)\n"
          ]
        },
        {
          "output_type": "display_data",
          "data": {
            "text/plain": [
              "<Figure size 432x288 with 1 Axes>"
            ],
            "image/png": "[encoded data removed]"
          },
          "metadata": {
            "needs_background": "light"
          }
        }
      ],
      "source": [
        "import scikitplot as skplt\n",
        "import matplotlib.pyplot as plt\n",
        "\n",
        "y_true = real_list # ground truth labels\n",
        "y_probas = prob_list # predicted probabilities generated by sklearn classifier\n",
        "skplt.metrics.plot_roc_curve(real_list, prob_list)\n",
        "plt.savefig(f'/content/drive/MyDrive/coyote_pj/roc') \n",
        "plt.show()"
      ],
      "id": "GjiIs6CmdoyS"
    },
    {
      "cell_type": "code",
      "execution_count": 24,
      "metadata": {
        "id": "VhveUQ4NRI2U",
        "colab": {
          "base_uri": "https://localhost:8080/"
        },
        "outputId": "e4b0a4d0-b022-43bc-83c4-f8b732ce280f"
      },
      "outputs": [
        {
          "output_type": "stream",
          "name": "stdout",
          "text": [
            "              precision    recall  f1-score   support\n",
            "\n",
            "      coyote       1.00      0.99      1.00       146\n",
            "  non-coyote       0.99      1.00      1.00       134\n",
            "\n",
            "    accuracy                           1.00       280\n",
            "   macro avg       1.00      1.00      1.00       280\n",
            "weighted avg       1.00      1.00      1.00       280\n",
            "\n"
          ]
        }
      ],
      "source": [
        "from sklearn.metrics import classification_report\n",
        "print(classification_report(real_list, pred_list, target_names=['coyote', 'non-coyote']))"
      ],
      "id": "VhveUQ4NRI2U"
    },
    {
      "cell_type": "code",
      "source": [],
      "metadata": {
        "id": "ivOCR6KqRRAA"
      },
      "id": "ivOCR6KqRRAA",
      "execution_count": null,
      "outputs": []
    }
  ],
  "metadata": {
    "accelerator": "GPU",
    "colab": {
      "collapsed_sections": [],
      "provenance": []
    },
    "kernelspec": {
      "display_name": "Python 3 (ipykernel)",
      "language": "python",
      "name": "python3"
    },
    "language_info": {
      "codemirror_mode": {
        "name": "ipython",
        "version": 3
      },
      "file_extension": ".py",
      "mimetype": "text/x-python",
      "name": "python",
      "nbconvert_exporter": "python",
      "pygments_lexer": "ipython3",
      "version": "3.8.13"
    },
    "widgets": {
      "application/vnd.jupyter.widget-state+json": {
        "612ed812cd4a46aeb5276699228a1d30": {
          "model_module": "@jupyter-widgets/controls",
          "model_name": "HBoxModel",
          "model_module_version": "1.5.0",
          "state": {
            "_dom_classes": [],
            "_model_module": "@jupyter-widgets/controls",
            "_model_module_version": "1.5.0",
            "_model_name": "HBoxModel",
            "_view_count": null,
            "_view_module": "@jupyter-widgets/controls",
            "_view_module_version": "1.5.0",
            "_view_name": "HBoxView",
            "box_style": "",
            "children": [
              "IPY_MODEL_c91f2f26d1604e208d096c8bf8cdbf9d",
              "IPY_MODEL_8a9a701893784a7fb3889ad97d78a7c6",
              "IPY_MODEL_b0dd2ef0821a49f3b86262a13d62da57"
            ],
            "layout": "IPY_MODEL_22c45007e3e54ab981a529727098b323"
          }
        },
        "c91f2f26d1604e208d096c8bf8cdbf9d": {
          "model_module": "@jupyter-widgets/controls",
          "model_name": "HTMLModel",
          "model_module_version": "1.5.0",
          "state": {
            "_dom_classes": [],
            "_model_module": "@jupyter-widgets/controls",
            "_model_module_version": "1.5.0",
            "_model_name": "HTMLModel",
            "_view_count": null,
            "_view_module": "@jupyter-widgets/controls",
            "_view_module_version": "1.5.0",
            "_view_name": "HTMLView",
            "description": "",
            "description_tooltip": null,
            "layout": "IPY_MODEL_420dccf14fe740c19628d2611dbf240a",
            "placeholder": "​",
            "style": "IPY_MODEL_99cc2f61b1024faea2eead3d4145edc0",
            "value": "100%"
          }
        },
        "8a9a701893784a7fb3889ad97d78a7c6": {
          "model_module": "@jupyter-widgets/controls",
          "model_name": "FloatProgressModel",
          "model_module_version": "1.5.0",
          "state": {
            "_dom_classes": [],
            "_model_module": "@jupyter-widgets/controls",
            "_model_module_version": "1.5.0",
            "_model_name": "FloatProgressModel",
            "_view_count": null,
            "_view_module": "@jupyter-widgets/controls",
            "_view_module_version": "1.5.0",
            "_view_name": "ProgressView",
            "bar_style": "success",
            "description": "",
            "description_tooltip": null,
            "layout": "IPY_MODEL_2f7138ea6baf4597893274736b43e858",
            "max": 28,
            "min": 0,
            "orientation": "horizontal",
            "style": "IPY_MODEL_2a693993a35741d9884b8e52531e6fc1",
            "value": 28
          }
        },
        "b0dd2ef0821a49f3b86262a13d62da57": {
          "model_module": "@jupyter-widgets/controls",
          "model_name": "HTMLModel",
          "model_module_version": "1.5.0",
          "state": {
            "_dom_classes": [],
            "_model_module": "@jupyter-widgets/controls",
            "_model_module_version": "1.5.0",
            "_model_name": "HTMLModel",
            "_view_count": null,
            "_view_module": "@jupyter-widgets/controls",
            "_view_module_version": "1.5.0",
            "_view_name": "HTMLView",
            "description": "",
            "description_tooltip": null,
            "layout": "IPY_MODEL_876ea298e7ee4b7daac632b45296b14b",
            "placeholder": "​",
            "style": "IPY_MODEL_3e5612d0a6fa438b842dda7f270176ee",
            "value": " 28/28 [01:16&lt;00:00,  2.06s/it]"
          }
        },
        "22c45007e3e54ab981a529727098b323": {
          "model_module": "@jupyter-widgets/base",
          "model_name": "LayoutModel",
          "model_module_version": "1.2.0",
          "state": {
            "_model_module": "@jupyter-widgets/base",
            "_model_module_version": "1.2.0",
            "_model_name": "LayoutModel",
            "_view_count": null,
            "_view_module": "@jupyter-widgets/base",
            "_view_module_version": "1.2.0",
            "_view_name": "LayoutView",
            "align_content": null,
            "align_items": null,
            "align_self": null,
            "border": null,
            "bottom": null,
            "display": null,
            "flex": null,
            "flex_flow": null,
            "grid_area": null,
            "grid_auto_columns": null,
            "grid_auto_flow": null,
            "grid_auto_rows": null,
            "grid_column": null,
            "grid_gap": null,
            "grid_row": null,
            "grid_template_areas": null,
            "grid_template_columns": null,
            "grid_template_rows": null,
            "height": null,
            "justify_content": null,
            "justify_items": null,
            "left": null,
            "margin": null,
            "max_height": null,
            "max_width": null,
            "min_height": null,
            "min_width": null,
            "object_fit": null,
            "object_position": null,
            "order": null,
            "overflow": null,
            "overflow_x": null,
            "overflow_y": null,
            "padding": null,
            "right": null,
            "top": null,
            "visibility": null,
            "width": null
          }
        },
        "420dccf14fe740c19628d2611dbf240a": {
          "model_module": "@jupyter-widgets/base",
          "model_name": "LayoutModel",
          "model_module_version": "1.2.0",
          "state": {
            "_model_module": "@jupyter-widgets/base",
            "_model_module_version": "1.2.0",
            "_model_name": "LayoutModel",
            "_view_count": null,
            "_view_module": "@jupyter-widgets/base",
            "_view_module_version": "1.2.0",
            "_view_name": "LayoutView",
            "align_content": null,
            "align_items": null,
            "align_self": null,
            "border": null,
            "bottom": null,
            "display": null,
            "flex": null,
            "flex_flow": null,
            "grid_area": null,
            "grid_auto_columns": null,
            "grid_auto_flow": null,
            "grid_auto_rows": null,
            "grid_column": null,
            "grid_gap": null,
            "grid_row": null,
            "grid_template_areas": null,
            "grid_template_columns": null,
            "grid_template_rows": null,
            "height": null,
            "justify_content": null,
            "justify_items": null,
            "left": null,
            "margin": null,
            "max_height": null,
            "max_width": null,
            "min_height": null,
            "min_width": null,
            "object_fit": null,
            "object_position": null,
            "order": null,
            "overflow": null,
            "overflow_x": null,
            "overflow_y": null,
            "padding": null,
            "right": null,
            "top": null,
            "visibility": null,
            "width": null
          }
        },
        "99cc2f61b1024faea2eead3d4145edc0": {
          "model_module": "@jupyter-widgets/controls",
          "model_name": "DescriptionStyleModel",
          "model_module_version": "1.5.0",
          "state": {
            "_model_module": "@jupyter-widgets/controls",
            "_model_module_version": "1.5.0",
            "_model_name": "DescriptionStyleModel",
            "_view_count": null,
            "_view_module": "@jupyter-widgets/base",
            "_view_module_version": "1.2.0",
            "_view_name": "StyleView",
            "description_width": ""
          }
        },
        "2f7138ea6baf4597893274736b43e858": {
          "model_module": "@jupyter-widgets/base",
          "model_name": "LayoutModel",
          "model_module_version": "1.2.0",
          "state": {
            "_model_module": "@jupyter-widgets/base",
            "_model_module_version": "1.2.0",
            "_model_name": "LayoutModel",
            "_view_count": null,
            "_view_module": "@jupyter-widgets/base",
            "_view_module_version": "1.2.0",
            "_view_name": "LayoutView",
            "align_content": null,
            "align_items": null,
            "align_self": null,
            "border": null,
            "bottom": null,
            "display": null,
            "flex": null,
            "flex_flow": null,
            "grid_area": null,
            "grid_auto_columns": null,
            "grid_auto_flow": null,
            "grid_auto_rows": null,
            "grid_column": null,
            "grid_gap": null,
            "grid_row": null,
            "grid_template_areas": null,
            "grid_template_columns": null,
            "grid_template_rows": null,
            "height": null,
            "justify_content": null,
            "justify_items": null,
            "left": null,
            "margin": null,
            "max_height": null,
            "max_width": null,
            "min_height": null,
            "min_width": null,
            "object_fit": null,
            "object_position": null,
            "order": null,
            "overflow": null,
            "overflow_x": null,
            "overflow_y": null,
            "padding": null,
            "right": null,
            "top": null,
            "visibility": null,
            "width": null
          }
        },
        "2a693993a35741d9884b8e52531e6fc1": {
          "model_module": "@jupyter-widgets/controls",
          "model_name": "ProgressStyleModel",
          "model_module_version": "1.5.0",
          "state": {
            "_model_module": "@jupyter-widgets/controls",
            "_model_module_version": "1.5.0",
            "_model_name": "ProgressStyleModel",
            "_view_count": null,
            "_view_module": "@jupyter-widgets/base",
            "_view_module_version": "1.2.0",
            "_view_name": "StyleView",
            "bar_color": null,
            "description_width": ""
          }
        },
        "876ea298e7ee4b7daac632b45296b14b": {
          "model_module": "@jupyter-widgets/base",
          "model_name": "LayoutModel",
          "model_module_version": "1.2.0",
          "state": {
            "_model_module": "@jupyter-widgets/base",
            "_model_module_version": "1.2.0",
            "_model_name": "LayoutModel",
            "_view_count": null,
            "_view_module": "@jupyter-widgets/base",
            "_view_module_version": "1.2.0",
            "_view_name": "LayoutView",
            "align_content": null,
            "align_items": null,
            "align_self": null,
            "border": null,
            "bottom": null,
            "display": null,
            "flex": null,
            "flex_flow": null,
            "grid_area": null,
            "grid_auto_columns": null,
            "grid_auto_flow": null,
            "grid_auto_rows": null,
            "grid_column": null,
            "grid_gap": null,
            "grid_row": null,
            "grid_template_areas": null,
            "grid_template_columns": null,
            "grid_template_rows": null,
            "height": null,
            "justify_content": null,
            "justify_items": null,
            "left": null,
            "margin": null,
            "max_height": null,
            "max_width": null,
            "min_height": null,
            "min_width": null,
            "object_fit": null,
            "object_position": null,
            "order": null,
            "overflow": null,
            "overflow_x": null,
            "overflow_y": null,
            "padding": null,
            "right": null,
            "top": null,
            "visibility": null,
            "width": null
          }
        },
        "3e5612d0a6fa438b842dda7f270176ee": {
          "model_module": "@jupyter-widgets/controls",
          "model_name": "DescriptionStyleModel",
          "model_module_version": "1.5.0",
          "state": {
            "_model_module": "@jupyter-widgets/controls",
            "_model_module_version": "1.5.0",
            "_model_name": "DescriptionStyleModel",
            "_view_count": null,
            "_view_module": "@jupyter-widgets/base",
            "_view_module_version": "1.2.0",
            "_view_name": "StyleView",
            "description_width": ""
          }
        }
      }
    }
  },
  "nbformat": 4,
  "nbformat_minor": 5
}