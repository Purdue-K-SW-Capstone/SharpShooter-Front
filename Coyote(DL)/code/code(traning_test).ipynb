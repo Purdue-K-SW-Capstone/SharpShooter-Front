{
  "cells": [
    {
      "cell_type": "code",
      "execution_count": 57,
      "metadata": {
        "id": "QBVgtwEB6Tnb",
        "colab": {
          "base_uri": "https://localhost:8080/"
        },
        "outputId": "377b3e4b-bbf3-4d50-ac53-630dc51e9926"
      },
      "outputs": [
        {
          "output_type": "stream",
          "name": "stdout",
          "text": [
            "Drive already mounted at /content/drive; to attempt to forcibly remount, call drive.mount(\"/content/drive\", force_remount=True).\n"
          ]
        }
      ],
      "source": [
        "from google.colab import drive\n",
        "drive.mount('/content/drive')"
      ],
      "id": "QBVgtwEB6Tnb"
    },
    {
      "cell_type": "code",
      "execution_count": 58,
      "metadata": {
        "id": "PYzk-BsG8h4P",
        "colab": {
          "base_uri": "https://localhost:8080/"
        },
        "outputId": "20b778f6-5e70-4211-9b51-3c04cea64221"
      },
      "outputs": [
        {
          "output_type": "stream",
          "name": "stdout",
          "text": [
            "/content/drive/MyDrive/coyote_pj\n"
          ]
        }
      ],
      "source": [
        "%cd /content/drive/MyDrive/coyote_pj"
      ],
      "id": "PYzk-BsG8h4P"
    },
    {
      "cell_type": "code",
      "execution_count": 59,
      "metadata": {
        "id": "nR6btvfR9G86"
      },
      "outputs": [],
      "source": [
        "# !unzip -qq COYOTE-final.zip"
      ],
      "id": "nR6btvfR9G86"
    },
    {
      "cell_type": "markdown",
      "metadata": {
        "id": "0cfEF3EK250Y"
      },
      "source": [
        "## Import module"
      ],
      "id": "0cfEF3EK250Y"
    },
    {
      "cell_type": "code",
      "execution_count": 60,
      "metadata": {
        "id": "454af237-faf3-4c40-8737-82c700207d7a"
      },
      "outputs": [],
      "source": [
        "import librosa \n",
        "import librosa.display as dsp\n",
        "from IPython.display import Audio"
      ],
      "id": "454af237-faf3-4c40-8737-82c700207d7a"
    },
    {
      "cell_type": "code",
      "execution_count": 61,
      "metadata": {
        "id": "c9ce686b-30ac-4cba-9767-6130a83e3192"
      },
      "outputs": [],
      "source": [
        "import pandas as pd\n",
        "import numpy as np\n",
        "from tqdm import tqdm\n",
        "import os"
      ],
      "id": "c9ce686b-30ac-4cba-9767-6130a83e3192"
    },
    {
      "cell_type": "code",
      "execution_count": 62,
      "metadata": {
        "id": "735bd94b-0de0-475b-bff6-01bdcae9c087",
        "colab": {
          "base_uri": "https://localhost:8080/"
        },
        "outputId": "2221bfd2-9b88-4ae3-c736-2ccb9e08a8d7"
      },
      "outputs": [
        {
          "output_type": "stream",
          "name": "stdout",
          "text": [
            "cpu\n"
          ]
        }
      ],
      "source": [
        "import torch\n",
        "import torchvision.datasets as datasets \n",
        "import torchvision.transforms as transforms  \n",
        "from torch.utils.data import DataLoader \n",
        "from torch.utils.data import DataLoader, Dataset\n",
        "\n",
        "import torch.optim as optim  \n",
        "\n",
        "device = torch.device('cuda') if torch.cuda.is_available() else torch.device('cpu') \n",
        "print(device)"
      ],
      "id": "735bd94b-0de0-475b-bff6-01bdcae9c087"
    },
    {
      "cell_type": "markdown",
      "metadata": {
        "id": "0ZUJCzIBpRxd"
      },
      "source": [
        "## Hyper-parameter Setting"
      ],
      "id": "0ZUJCzIBpRxd"
    },
    {
      "cell_type": "code",
      "execution_count": 63,
      "metadata": {
        "id": "d53eca8a-2506-40ba-bc1c-e1d0541f2834",
        "colab": {
          "base_uri": "https://localhost:8080/"
        },
        "outputId": "d9f44c02-e1c1-4bc6-d79c-462626544c2a"
      },
      "outputs": [
        {
          "output_type": "stream",
          "name": "stdout",
          "text": [
            "epoch : 100 \n",
            " batch : 10 \n",
            " lr : 0.001\n"
          ]
        }
      ],
      "source": [
        "mini = 7296\n",
        "num_epochs = 100\n",
        "batch_size = 10\n",
        "learning_rate = 1e-3\n",
        "print(f'epoch : {num_epochs} \\n batch : {batch_size} \\n lr : {learning_rate}')"
      ],
      "id": "d53eca8a-2506-40ba-bc1c-e1d0541f2834"
    },
    {
      "cell_type": "markdown",
      "metadata": {
        "id": "qyIl-plQpV1m"
      },
      "source": [
        "## Dataset & DataLoader"
      ],
      "id": "qyIl-plQpV1m"
    },
    {
      "cell_type": "code",
      "execution_count": 64,
      "metadata": {
        "id": "f12e1d68-73a5-4959-a053-6a87c4ab336d"
      },
      "outputs": [],
      "source": [
        "class CustomDataset(Dataset):\n",
        "    def __init__(self, file_path, train_mode=True, transforms=None): \n",
        "        self.csv = pd.read_csv(file_path)\n",
        "        self.train_mode = train_mode\n",
        "        self.transforms = transforms\n",
        "\n",
        "    def __len__(self): \n",
        "        # return 10 #DEBUG\n",
        "        return self.csv.shape[0]\n",
        "    \n",
        "    def __getitem__(self, index): \n",
        "        file_name = self.csv.iloc[index].file_name\n",
        "        audio, sr = librosa.load(f'/content/drive/MyDrive/coyote_pj/data/dataset_all/{file_name}', sr = 16000)\n",
        "        audio = librosa.feature.mfcc(y=audio, sr=sr, n_mfcc=40)  \n",
        "        audio = np.array(audio)\n",
        "        audio = audio.reshape(audio.shape[0], audio.shape[1], 1)  \n",
        "        \n",
        "        label = self.csv.iloc[index].label\n",
        "        # label = classes[label]\n",
        "        \n",
        "        if self.transforms is not None:  \n",
        "            audio = self.transforms(audio)\n",
        "\n",
        "        return audio, label  "
      ],
      "id": "f12e1d68-73a5-4959-a053-6a87c4ab336d"
    },
    {
      "cell_type": "code",
      "execution_count": 65,
      "metadata": {
        "id": "e183edb9-42cc-47aa-8918-9bdf6fa00c18"
      },
      "outputs": [],
      "source": [
        "train_dataset = CustomDataset('./train.csv', train_mode = True, transforms = None) # *****\n",
        "train_loader = DataLoader(train_dataset, batch_size = batch_size, shuffle=True, num_workers=2)\n",
        "\n",
        "vali_dataset = CustomDataset('./valid.csv', train_mode = False, transforms = None)\n",
        "vali_loader = DataLoader(vali_dataset, batch_size = batch_size, shuffle=False, num_workers=2)"
      ],
      "id": "e183edb9-42cc-47aa-8918-9bdf6fa00c18"
    },
    {
      "cell_type": "code",
      "execution_count": 66,
      "metadata": {
        "id": "e0b9dc7f-d1db-4090-8356-a8f8389485b6",
        "colab": {
          "base_uri": "https://localhost:8080/"
        },
        "outputId": "43e8f2b7-38cb-4e92-b89b-2022f80117b6"
      },
      "outputs": [
        {
          "output_type": "stream",
          "name": "stdout",
          "text": [
            "/ total train batches : 116\n",
            "/ total valid batches : 28\n"
          ]
        }
      ],
      "source": [
        "train_batches = len(train_loader)\n",
        "vali_batches = len(vali_loader)\n",
        "\n",
        "print('/ total train batches :', train_batches)\n",
        "print('/ total valid batches :', vali_batches)"
      ],
      "id": "e0b9dc7f-d1db-4090-8356-a8f8389485b6"
    },
    {
      "cell_type": "markdown",
      "metadata": {
        "id": "c4af5d0e-f8d5-48e7-9435-e58e7a54feb7"
      },
      "source": [
        "## Model design"
      ],
      "id": "c4af5d0e-f8d5-48e7-9435-e58e7a54feb7"
    },
    {
      "cell_type": "code",
      "execution_count": 67,
      "metadata": {
        "id": "61bbfd34-ae9d-4a70-b36d-d7ce90403ebb"
      },
      "outputs": [],
      "source": [
        "from tqdm.auto import tqdm\n",
        "import torch.nn as nn  \n",
        "\n",
        "class CNNclassification(torch.nn.Module):\n",
        "    def __init__(self):\n",
        "        super(CNNclassification, self).__init__()\n",
        "        self.layer1 = torch.nn.Sequential(\n",
        "            nn.Conv2d(40, 10, kernel_size=2, stride=1, padding=1), #cnn layer\n",
        "            nn.ReLU(), #activation function\n",
        "            nn.MaxPool2d(kernel_size=2, stride=2)) #pooling layer\n",
        "        \n",
        "        self.layer2 = torch.nn.Sequential(\n",
        "            nn.Conv2d(10, 100, kernel_size=2, stride=1, padding=1), #cnn layer\n",
        "            nn.ReLU(), #activation function\n",
        "            nn.MaxPool2d(kernel_size=2, stride=2)) #pooling layer\n",
        "        \n",
        "        self.layer3 = torch.nn.Sequential(\n",
        "            nn.Conv2d(100, 200, kernel_size=2, stride=1, padding=1), #cnn layer\n",
        "            nn.ReLU(), #activation function\n",
        "            nn.MaxPool2d(kernel_size=2, stride=2)) #pooling layer\n",
        "        \n",
        "        self.layer4 = torch.nn.Sequential(\n",
        "            nn.Conv2d(200, 300, kernel_size=2, stride=1, padding=1), #cnn layer\n",
        "            nn.ReLU(), #activation function\n",
        "            nn.MaxPool2d(kernel_size=2, stride=2)) #pooling layer\n",
        "        \n",
        "        self.fc_layer = nn.Sequential( \n",
        "            nn.Linear(3000, 2) #fully connected layer(ouput layer)\n",
        "            \n",
        "        )    \n",
        "        \n",
        "    def forward(self, x):\n",
        "        \n",
        "        x = self.layer1(x) \n",
        "        \n",
        "        x = self.layer2(x)  \n",
        "         \n",
        "        x = self.layer3(x)  \n",
        "        \n",
        "        x = self.layer4(x)  \n",
        "        \n",
        "        x = torch.flatten(x, start_dim=1) \n",
        "        out = self.fc_layer(x)\n",
        "        return out"
      ],
      "id": "61bbfd34-ae9d-4a70-b36d-d7ce90403ebb"
    },
    {
      "cell_type": "markdown",
      "metadata": {
        "id": "383b5788-f619-47b7-9a8a-bbd26db8612a"
      },
      "source": [
        "## Traning Model"
      ],
      "id": "383b5788-f619-47b7-9a8a-bbd26db8612a"
    },
    {
      "cell_type": "code",
      "execution_count": 68,
      "metadata": {
        "id": "f9a497f6-ec76-4b98-b35e-fb9c15718e0f"
      },
      "outputs": [],
      "source": [
        "model = CNNclassification().to(device)\n",
        "criterion = torch.nn.CrossEntropyLoss().to(device)\n",
        "# optimizer = torch.optim.SGD(params = model.parameters(), lr = 1e-3 )\n",
        "optimizer = optim.Adam(model.parameters(), lr=learning_rate)\n",
        "scheduler = None # ****** scheduler\n",
        "\n",
        "# scheduler_cosine = torch.optim.lr_scheduler.CosineAnnealingWarmRestarts(optimizer, args.n_epochs - 1)\n",
        "# scheduler_warmup = GradualWarmupSchedulerV2(optimizer, multiplier=10, total_epoch=1, after_scheduler=scheduler_cosine)"
      ],
      "id": "f9a497f6-ec76-4b98-b35e-fb9c15718e0f"
    },
    {
      "cell_type": "code",
      "execution_count": 69,
      "metadata": {
        "id": "c23fcb53-deac-47d8-b6ee-6d9913520ccc"
      },
      "outputs": [],
      "source": [
        "# model(torch.rand(10, 40, 12, 1).to(device))"
      ],
      "id": "c23fcb53-deac-47d8-b6ee-6d9913520ccc"
    },
    {
      "cell_type": "code",
      "execution_count": 70,
      "metadata": {
        "id": "a99cf975-1233-48e3-a181-b48e695cc3cc"
      },
      "outputs": [],
      "source": [
        "from tqdm.auto import tqdm\n",
        "\n",
        "import torch.nn.functional as F\n",
        "def train(model, optimizer, train_loader, scheduler, device): \n",
        "    model.to(device)\n",
        "    n = len(train_loader)\n",
        "    best_loss = np.inf\n",
        "    \n",
        "    for epoch in range(1,num_epochs): \n",
        "        model.train()  \n",
        "        running_loss = 0.0        \n",
        "        \n",
        "        for wav, label in tqdm(iter(train_loader)):\n",
        "            wav, label = wav.to(device), label.to(device) \n",
        "            optimizer.zero_grad()  \n",
        "        \n",
        "            # Data -> Model -> Output\n",
        "            logit = model(wav)  \n",
        "            ps = F.softmax(logit, dim=1)  \n",
        "            loss = criterion(logit, label)  \n",
        "             \n",
        "            loss.backward() \n",
        "            optimizer.step()  \n",
        "            running_loss += loss.item()\n",
        "        print(f'-----  Epoch {epoch} -----')     \n",
        "        print('Train loss: %.10f' %(running_loss / len(train_loader)))\n",
        "        \n",
        "        if scheduler is not None:\n",
        "            scheduler.step()\n",
        "            \n",
        "             \n",
        "        model.eval()  \n",
        "        vali_loss = 0.0\n",
        "        correct = 0\n",
        "\n",
        "        real_list = []\n",
        "        pred_list = []\n",
        "               \n",
        "        with torch.no_grad():  \n",
        "            for wav, label in tqdm(iter(vali_loader)):\n",
        "                \n",
        "                wav, label = wav.to(device), label.to(device)\n",
        "                logit = model(wav)\n",
        "                vali_loss += criterion(logit, label)\n",
        "                # print(logit)\n",
        "                pred = logit.argmax(dim=1, keepdim=False) \n",
        "                correct += pred.eq(label.view_as(pred)).sum().item() \n",
        "                real_list.extend(label.cpu().tolist())\n",
        "                pred_list.extend(pred.cpu().tolist())\n",
        "            print(real_list)\n",
        "            print(pred_list)\n",
        "            tmp = real_list == pred_list\n",
        "            # print(tmp)\n",
        "            print('acc : ', (tmp / len(real_list)) * 100)\n",
        "\n",
        "\n",
        "        vali_acc = 100 * correct / len(vali_loader.dataset)\n",
        "        vali_loss_total = vali_loss / len(vali_loader)\n",
        "        print('Vail set: Loss: {:.4f}, Accuracy: {}/{} ( {:.0f}%)\\n'.format(vali_loss / len(vali_loader), correct, len(vali_loader.dataset), 100 * correct / len(vali_loader.dataset)))\n",
        "\n",
        "        if best_loss > vali_loss_total:\n",
        "            best_loss = vali_loss_total\n",
        "            torch.save(model.state_dict(), './best_model_sr(16000).pth')  \n",
        "            print('Model Saved.')"
      ],
      "id": "a99cf975-1233-48e3-a181-b48e695cc3cc"
    },
    {
      "cell_type": "code",
      "execution_count": 71,
      "metadata": {
        "id": "4f08eca4-1d3b-49f5-8c34-3c67e209b5a4"
      },
      "outputs": [],
      "source": [
        "# train(model, optimizer, train_loader, scheduler, device)"
      ],
      "id": "4f08eca4-1d3b-49f5-8c34-3c67e209b5a4"
    },
    {
      "cell_type": "code",
      "execution_count": 77,
      "metadata": {
        "id": "af44eb0c-f8c8-4997-b753-73eda6b9a526"
      },
      "outputs": [],
      "source": [
        "best_model = CNNclassification().to(device)\n",
        "best_model.load_state_dict(torch.load('/content/drive/MyDrive/coyote_pj/best_model_sr(16000).pth', map_location=torch.device('cpu')))\n",
        "\n",
        "vali_dataset = CustomDataset('./valid.csv', train_mode = False, transforms = None)\n",
        "vali_loader = DataLoader(vali_dataset, batch_size = batch_size, shuffle=False, num_workers=2)"
      ],
      "id": "af44eb0c-f8c8-4997-b753-73eda6b9a526"
    },
    {
      "cell_type": "code",
      "execution_count": 80,
      "metadata": {
        "colab": {
          "base_uri": "https://localhost:8080/",
          "height": 141,
          "referenced_widgets": [
            "32812bbd2d5a40cd8734c0334ad1b46f",
            "a7be7f4982714537ae8cf4a022a6c1e4",
            "cf824dedb9e94c39a0845ae77be0f19c",
            "5c6022ffa757418d9bedcf8d7ec187f5",
            "d65a8099e2824e8395ff98d521752bb3",
            "c4ac2d69c6ce4716895c2e0c2309cfb9",
            "a82aed593e724533bd23745daadaf51e",
            "72dfb425eaa340eeae7753feb323cb87",
            "9e0befcbf4ee46de9c2851da63e8fd99",
            "2dad35ed3099472395c091414661a8c2",
            "bdb6925433df4e8990791168412bf184"
          ]
        },
        "id": "10993fda-74b5-4109-ad71-9a96604db019",
        "outputId": "1498d1fd-880d-4391-920b-099a95bb3691"
      },
      "outputs": [
        {
          "output_type": "display_data",
          "data": {
            "text/plain": [
              "  0%|          | 0/28 [00:00<?, ?it/s]"
            ],
            "application/vnd.jupyter.widget-view+json": {
              "version_major": 2,
              "version_minor": 0,
              "model_id": "32812bbd2d5a40cd8734c0334ad1b46f"
            }
          },
          "metadata": {}
        },
        {
          "output_type": "stream",
          "name": "stdout",
          "text": [
            "[0, 0, 0, 1, 1, 1, 0, 0, 1, 1, 0, 0, 1, 0, 0, 0, 0, 0, 1, 0, 1, 0, 0, 1, 1, 1, 1, 0, 0, 1, 1, 0, 1, 1, 1, 0, 0, 0, 1, 1, 0, 1, 1, 0, 0, 0, 0, 1, 1, 0, 0, 0, 0, 1, 0, 0, 0, 1, 1, 1, 0, 0, 0, 1, 1, 1, 1, 1, 1, 0, 1, 0, 1, 0, 1, 1, 1, 0, 0, 0, 1, 1, 0, 0, 0, 1, 0, 1, 0, 0, 1, 1, 0, 0, 0, 0, 1, 1, 0, 0, 0, 0, 1, 1, 0, 0, 1, 0, 0, 0, 0, 1, 0, 1, 0, 1, 1, 0, 0, 1, 1, 1, 1, 0, 1, 1, 0, 1, 0, 1, 0, 0, 0, 1, 1, 1, 1, 0, 0, 1, 0, 1, 1, 0, 1, 1, 0, 0, 1, 0, 0, 0, 1, 1, 0, 1, 0, 1, 1, 0, 0, 0, 0, 0, 0, 1, 0, 0, 1, 0, 0, 0, 1, 0, 1, 1, 1, 0, 1, 1, 0, 1, 0, 0, 1, 0, 0, 1, 0, 0, 1, 1, 0, 1, 1, 0, 1, 1, 1, 1, 0, 0, 1, 0, 0, 1, 0, 0, 0, 1, 1, 0, 1, 1, 1, 1, 1, 1, 0, 0, 1, 0, 0, 0, 0, 0, 1, 1, 0, 1, 0, 1, 0, 0, 0, 0, 0, 1, 0, 0, 0, 1, 0, 1, 1, 0, 0, 1, 1, 1, 0, 0, 1, 0, 1, 0, 0, 1, 0, 1, 1, 0, 1, 1, 1, 1, 0, 1, 1, 0, 1, 0, 1, 1, 0, 1, 1, 0, 0, 1]\n",
            "[0, 0, 0, 1, 1, 1, 0, 0, 1, 1, 0, 0, 1, 0, 0, 0, 0, 0, 1, 0, 1, 0, 0, 1, 1, 1, 1, 0, 0, 1, 1, 0, 1, 1, 1, 0, 0, 0, 1, 1, 0, 1, 1, 0, 0, 0, 0, 1, 1, 0, 0, 0, 0, 1, 0, 0, 0, 1, 1, 1, 0, 0, 0, 1, 1, 1, 1, 1, 1, 0, 1, 0, 1, 0, 1, 1, 1, 0, 0, 0, 1, 1, 0, 0, 0, 1, 0, 1, 0, 0, 1, 1, 0, 0, 0, 0, 1, 1, 0, 0, 0, 0, 1, 1, 0, 0, 1, 0, 0, 0, 0, 1, 0, 1, 0, 1, 1, 0, 0, 1, 1, 1, 1, 0, 1, 1, 0, 1, 0, 1, 1, 0, 0, 1, 1, 1, 1, 0, 0, 1, 0, 1, 1, 0, 1, 1, 0, 0, 1, 0, 0, 0, 1, 1, 0, 1, 0, 1, 1, 0, 0, 0, 0, 0, 0, 1, 0, 0, 1, 0, 0, 0, 1, 0, 1, 1, 1, 0, 1, 1, 0, 1, 0, 0, 1, 0, 0, 1, 0, 0, 1, 1, 0, 1, 1, 0, 1, 1, 1, 1, 0, 0, 1, 0, 0, 1, 0, 0, 0, 1, 1, 0, 1, 1, 1, 1, 1, 1, 0, 0, 1, 0, 0, 0, 0, 0, 1, 1, 0, 1, 0, 1, 0, 0, 0, 0, 0, 1, 0, 0, 0, 1, 0, 1, 1, 0, 0, 1, 1, 1, 0, 0, 1, 0, 1, 0, 0, 1, 0, 1, 1, 0, 1, 1, 1, 1, 0, 1, 1, 0, 1, 0, 1, 1, 0, 1, 1, 0, 0, 1]\n",
            "Vail set: Loss: 0.0324, Accuracy: 279/280 ( 100%)\n",
            "\n"
          ]
        }
      ],
      "source": [
        "best_model.eval() \n",
        "vali_loss = 0.0\n",
        "correct = 0\n",
        "\n",
        "real_list = []\n",
        "pred_list = []\n",
        "prob_list = []\n",
        "\n",
        "with torch.no_grad():  \n",
        "    for wav, label in tqdm(iter(vali_loader)):\n",
        "        \n",
        "        wav, label = wav.to(device), label.to(device)\n",
        "        logit = best_model(wav)\n",
        "        vali_loss += criterion(logit, label)\n",
        "\n",
        "        ps = F.softmax(logit, dim=1)\n",
        "        # top_p, top_class = ps.topk(1, dim=1)\n",
        "\n",
        "        pred = logit.argmax(dim=1, keepdim=False)   \n",
        "        correct += pred.eq(label.view_as(pred)).sum().item()  \n",
        "        real_list.extend(label.cpu().tolist())\n",
        "        pred_list.extend(pred.cpu().tolist())\n",
        "        prob_list.extend(ps.cpu().tolist())\n",
        "\n",
        "print(real_list)\n",
        "print(pred_list)\n",
        "\n",
        "vali_acc = 100 * correct / len(vali_loader.dataset)\n",
        "vali_loss_total = vali_loss / len(vali_loader)\n",
        "print('Vail set: Loss: {:.4f}, Accuracy: {}/{} ( {:.0f}%)\\n'.format(vali_loss / len(vali_loader), correct, len(vali_loader.dataset), 100 * correct / len(vali_loader.dataset)))"
      ],
      "id": "10993fda-74b5-4109-ad71-9a96604db019"
    },
    {
      "cell_type": "markdown",
      "metadata": {
        "id": "DBNNdJ3jkbTs"
      },
      "source": [
        "### Confusion Matrix & ROC curve"
      ],
      "id": "DBNNdJ3jkbTs"
    },
    {
      "cell_type": "code",
      "execution_count": 79,
      "metadata": {
        "id": "-vj6u6KUWqzY"
      },
      "outputs": [],
      "source": [
        "real_list = np.array(np.int64(real_list))\n",
        "pred_list = np.array(np.int64(pred_list))"
      ],
      "id": "-vj6u6KUWqzY"
    },
    {
      "cell_type": "code",
      "execution_count": 81,
      "metadata": {
        "id": "r6-UjuzOYHc9"
      },
      "outputs": [],
      "source": [
        "import sklearn\n",
        "# pred_list\n",
        "cf_matrix = sklearn.metrics.confusion_matrix(np.array(real_list), np.array(pred_list))"
      ],
      "id": "r6-UjuzOYHc9"
    },
    {
      "cell_type": "code",
      "execution_count": 82,
      "metadata": {
        "colab": {
          "base_uri": "https://localhost:8080/",
          "height": 265
        },
        "id": "LmuGAAWekpZ4",
        "outputId": "91d9ee9a-4d59-4d95-9091-1c7c49fe136b"
      },
      "outputs": [
        {
          "output_type": "display_data",
          "data": {
            "text/plain": [
              "<Figure size 432x288 with 2 Axes>"
            ],
            "image/png": "[encoded data removed]"
          },
          "metadata": {
            "needs_background": "light"
          }
        }
      ],
      "source": [
        "from sklearn.metrics.pairwise import normalize\n",
        "import seaborn as sns\n",
        "import matplotlib.pyplot as plt\n",
        "\n",
        "label=['Coyote', 'Non-Coyote'] # 라벨 설정\n",
        "sns.heatmap(cf_matrix, annot=True, annot_kws={'size':12}, cmap ='Blues', fmt ='d', label = label)\n",
        "plt.savefig(f'/content/drive/MyDrive/coyote_pj/confusion_mat') "
      ],
      "id": "LmuGAAWekpZ4"
    },
    {
      "cell_type": "code",
      "source": [
        "# !pip install scikit-plot"
      ],
      "metadata": {
        "id": "JEbDizo711Pj"
      },
      "id": "JEbDizo711Pj",
      "execution_count": 85,
      "outputs": []
    },
    {
      "cell_type": "code",
      "execution_count": 86,
      "metadata": {
        "colab": {
          "base_uri": "https://localhost:8080/",
          "height": 351
        },
        "id": "GjiIs6CmdoyS",
        "outputId": "b6abd010-8b3e-4e1b-8c0a-759db9a33905"
      },
      "outputs": [
        {
          "output_type": "stream",
          "name": "stderr",
          "text": [
            "/usr/local/lib/python3.7/dist-packages/sklearn/utils/deprecation.py:87: FutureWarning: Function plot_roc_curve is deprecated; This will be removed in v0.5.0. Please use scikitplot.metrics.plot_roc instead.\n",
            "  warnings.warn(msg, category=FutureWarning)\n"
          ]
        },
        {
          "output_type": "display_data",
          "data": {
            "text/plain": [
              "<Figure size 432x288 with 1 Axes>"
            ],
            "image/png": "[encoded data removed]"
          },
          "metadata": {
            "needs_background": "light"
          }
        }
      ],
      "source": [
        "import scikitplot as skplt\n",
        "import matplotlib.pyplot as plt\n",
        "\n",
        "y_true = real_list # ground truth labels\n",
        "y_probas = prob_list # predicted probabilities generated by sklearn classifier\n",
        "skplt.metrics.plot_roc_curve(real_list, prob_list)\n",
        "plt.savefig(f'/content/drive/MyDrive/coyote_pj/roc') \n",
        "plt.show()"
      ],
      "id": "GjiIs6CmdoyS"
    },
    {
      "cell_type": "code",
      "execution_count": 87,
      "metadata": {
        "colab": {
          "base_uri": "https://localhost:8080/"
        },
        "id": "VhveUQ4NRI2U",
        "outputId": "176f9b03-39b2-4c6a-bd37-155140c217b7"
      },
      "outputs": [
        {
          "output_type": "stream",
          "name": "stdout",
          "text": [
            "              precision    recall  f1-score   support\n",
            "\n",
            "      coyote       1.00      0.99      1.00       146\n",
            "  non-coyote       0.99      1.00      1.00       134\n",
            "\n",
            "    accuracy                           1.00       280\n",
            "   macro avg       1.00      1.00      1.00       280\n",
            "weighted avg       1.00      1.00      1.00       280\n",
            "\n"
          ]
        }
      ],
      "source": [
        "from sklearn.metrics import classification_report\n",
        "print(classification_report(real_list, pred_list, target_names=['coyote', 'non-coyote']))"
      ],
      "id": "VhveUQ4NRI2U"
    },
    {
      "cell_type": "code",
      "execution_count": 76,
      "metadata": {
        "id": "T3qWYE6P0OEB"
      },
      "outputs": [],
      "source": [],
      "id": "T3qWYE6P0OEB"
    }
  ],
  "metadata": {
    "accelerator": "GPU",
    "colab": {
      "collapsed_sections": [],
      "provenance": []
    },
    "kernelspec": {
      "display_name": "Python 3 (ipykernel)",
      "language": "python",
      "name": "python3"
    },
    "language_info": {
      "codemirror_mode": {
        "name": "ipython",
        "version": 3
      },
      "file_extension": ".py",
      "mimetype": "text/x-python",
      "name": "python",
      "nbconvert_exporter": "python",
      "pygments_lexer": "ipython3",
      "version": "3.8.13"
    },
    "widgets": {
      "application/vnd.jupyter.widget-state+json": {
        "32812bbd2d5a40cd8734c0334ad1b46f": {
          "model_module": "@jupyter-widgets/controls",
          "model_name": "HBoxModel",
          "model_module_version": "1.5.0",
          "state": {
            "_dom_classes": [],
            "_model_module": "@jupyter-widgets/controls",
            "_model_module_version": "1.5.0",
            "_model_name": "HBoxModel",
            "_view_count": null,
            "_view_module": "@jupyter-widgets/controls",
            "_view_module_version": "1.5.0",
            "_view_name": "HBoxView",
            "box_style": "",
            "children": [
              "IPY_MODEL_a7be7f4982714537ae8cf4a022a6c1e4",
              "IPY_MODEL_cf824dedb9e94c39a0845ae77be0f19c",
              "IPY_MODEL_5c6022ffa757418d9bedcf8d7ec187f5"
            ],
            "layout": "IPY_MODEL_d65a8099e2824e8395ff98d521752bb3"
          }
        },
        "a7be7f4982714537ae8cf4a022a6c1e4": {
          "model_module": "@jupyter-widgets/controls",
          "model_name": "HTMLModel",
          "model_module_version": "1.5.0",
          "state": {
            "_dom_classes": [],
            "_model_module": "@jupyter-widgets/controls",
            "_model_module_version": "1.5.0",
            "_model_name": "HTMLModel",
            "_view_count": null,
            "_view_module": "@jupyter-widgets/controls",
            "_view_module_version": "1.5.0",
            "_view_name": "HTMLView",
            "description": "",
            "description_tooltip": null,
            "layout": "IPY_MODEL_c4ac2d69c6ce4716895c2e0c2309cfb9",
            "placeholder": "​",
            "style": "IPY_MODEL_a82aed593e724533bd23745daadaf51e",
            "value": "100%"
          }
        },
        "cf824dedb9e94c39a0845ae77be0f19c": {
          "model_module": "@jupyter-widgets/controls",
          "model_name": "FloatProgressModel",
          "model_module_version": "1.5.0",
          "state": {
            "_dom_classes": [],
            "_model_module": "@jupyter-widgets/controls",
            "_model_module_version": "1.5.0",
            "_model_name": "FloatProgressModel",
            "_view_count": null,
            "_view_module": "@jupyter-widgets/controls",
            "_view_module_version": "1.5.0",
            "_view_name": "ProgressView",
            "bar_style": "success",
            "description": "",
            "description_tooltip": null,
            "layout": "IPY_MODEL_72dfb425eaa340eeae7753feb323cb87",
            "max": 28,
            "min": 0,
            "orientation": "horizontal",
            "style": "IPY_MODEL_9e0befcbf4ee46de9c2851da63e8fd99",
            "value": 28
          }
        },
        "5c6022ffa757418d9bedcf8d7ec187f5": {
          "model_module": "@jupyter-widgets/controls",
          "model_name": "HTMLModel",
          "model_module_version": "1.5.0",
          "state": {
            "_dom_classes": [],
            "_model_module": "@jupyter-widgets/controls",
            "_model_module_version": "1.5.0",
            "_model_name": "HTMLModel",
            "_view_count": null,
            "_view_module": "@jupyter-widgets/controls",
            "_view_module_version": "1.5.0",
            "_view_name": "HTMLView",
            "description": "",
            "description_tooltip": null,
            "layout": "IPY_MODEL_2dad35ed3099472395c091414661a8c2",
            "placeholder": "​",
            "style": "IPY_MODEL_bdb6925433df4e8990791168412bf184",
            "value": " 28/28 [00:25&lt;00:00,  1.38it/s]"
          }
        },
        "d65a8099e2824e8395ff98d521752bb3": {
          "model_module": "@jupyter-widgets/base",
          "model_name": "LayoutModel",
          "model_module_version": "1.2.0",
          "state": {
            "_model_module": "@jupyter-widgets/base",
            "_model_module_version": "1.2.0",
            "_model_name": "LayoutModel",
            "_view_count": null,
            "_view_module": "@jupyter-widgets/base",
            "_view_module_version": "1.2.0",
            "_view_name": "LayoutView",
            "align_content": null,
            "align_items": null,
            "align_self": null,
            "border": null,
            "bottom": null,
            "display": null,
            "flex": null,
            "flex_flow": null,
            "grid_area": null,
            "grid_auto_columns": null,
            "grid_auto_flow": null,
            "grid_auto_rows": null,
            "grid_column": null,
            "grid_gap": null,
            "grid_row": null,
            "grid_template_areas": null,
            "grid_template_columns": null,
            "grid_template_rows": null,
            "height": null,
            "justify_content": null,
            "justify_items": null,
            "left": null,
            "margin": null,
            "max_height": null,
            "max_width": null,
            "min_height": null,
            "min_width": null,
            "object_fit": null,
            "object_position": null,
            "order": null,
            "overflow": null,
            "overflow_x": null,
            "overflow_y": null,
            "padding": null,
            "right": null,
            "top": null,
            "visibility": null,
            "width": null
          }
        },
        "c4ac2d69c6ce4716895c2e0c2309cfb9": {
          "model_module": "@jupyter-widgets/base",
          "model_name": "LayoutModel",
          "model_module_version": "1.2.0",
          "state": {
            "_model_module": "@jupyter-widgets/base",
            "_model_module_version": "1.2.0",
            "_model_name": "LayoutModel",
            "_view_count": null,
            "_view_module": "@jupyter-widgets/base",
            "_view_module_version": "1.2.0",
            "_view_name": "LayoutView",
            "align_content": null,
            "align_items": null,
            "align_self": null,
            "border": null,
            "bottom": null,
            "display": null,
            "flex": null,
            "flex_flow": null,
            "grid_area": null,
            "grid_auto_columns": null,
            "grid_auto_flow": null,
            "grid_auto_rows": null,
            "grid_column": null,
            "grid_gap": null,
            "grid_row": null,
            "grid_template_areas": null,
            "grid_template_columns": null,
            "grid_template_rows": null,
            "height": null,
            "justify_content": null,
            "justify_items": null,
            "left": null,
            "margin": null,
            "max_height": null,
            "max_width": null,
            "min_height": null,
            "min_width": null,
            "object_fit": null,
            "object_position": null,
            "order": null,
            "overflow": null,
            "overflow_x": null,
            "overflow_y": null,
            "padding": null,
            "right": null,
            "top": null,
            "visibility": null,
            "width": null
          }
        },
        "a82aed593e724533bd23745daadaf51e": {
          "model_module": "@jupyter-widgets/controls",
          "model_name": "DescriptionStyleModel",
          "model_module_version": "1.5.0",
          "state": {
            "_model_module": "@jupyter-widgets/controls",
            "_model_module_version": "1.5.0",
            "_model_name": "DescriptionStyleModel",
            "_view_count": null,
            "_view_module": "@jupyter-widgets/base",
            "_view_module_version": "1.2.0",
            "_view_name": "StyleView",
            "description_width": ""
          }
        },
        "72dfb425eaa340eeae7753feb323cb87": {
          "model_module": "@jupyter-widgets/base",
          "model_name": "LayoutModel",
          "model_module_version": "1.2.0",
          "state": {
            "_model_module": "@jupyter-widgets/base",
            "_model_module_version": "1.2.0",
            "_model_name": "LayoutModel",
            "_view_count": null,
            "_view_module": "@jupyter-widgets/base",
            "_view_module_version": "1.2.0",
            "_view_name": "LayoutView",
            "align_content": null,
            "align_items": null,
            "align_self": null,
            "border": null,
            "bottom": null,
            "display": null,
            "flex": null,
            "flex_flow": null,
            "grid_area": null,
            "grid_auto_columns": null,
            "grid_auto_flow": null,
            "grid_auto_rows": null,
            "grid_column": null,
            "grid_gap": null,
            "grid_row": null,
            "grid_template_areas": null,
            "grid_template_columns": null,
            "grid_template_rows": null,
            "height": null,
            "justify_content": null,
            "justify_items": null,
            "left": null,
            "margin": null,
            "max_height": null,
            "max_width": null,
            "min_height": null,
            "min_width": null,
            "object_fit": null,
            "object_position": null,
            "order": null,
            "overflow": null,
            "overflow_x": null,
            "overflow_y": null,
            "padding": null,
            "right": null,
            "top": null,
            "visibility": null,
            "width": null
          }
        },
        "9e0befcbf4ee46de9c2851da63e8fd99": {
          "model_module": "@jupyter-widgets/controls",
          "model_name": "ProgressStyleModel",
          "model_module_version": "1.5.0",
          "state": {
            "_model_module": "@jupyter-widgets/controls",
            "_model_module_version": "1.5.0",
            "_model_name": "ProgressStyleModel",
            "_view_count": null,
            "_view_module": "@jupyter-widgets/base",
            "_view_module_version": "1.2.0",
            "_view_name": "StyleView",
            "bar_color": null,
            "description_width": ""
          }
        },
        "2dad35ed3099472395c091414661a8c2": {
          "model_module": "@jupyter-widgets/base",
          "model_name": "LayoutModel",
          "model_module_version": "1.2.0",
          "state": {
            "_model_module": "@jupyter-widgets/base",
            "_model_module_version": "1.2.0",
            "_model_name": "LayoutModel",
            "_view_count": null,
            "_view_module": "@jupyter-widgets/base",
            "_view_module_version": "1.2.0",
            "_view_name": "LayoutView",
            "align_content": null,
            "align_items": null,
            "align_self": null,
            "border": null,
            "bottom": null,
            "display": null,
            "flex": null,
            "flex_flow": null,
            "grid_area": null,
            "grid_auto_columns": null,
            "grid_auto_flow": null,
            "grid_auto_rows": null,
            "grid_column": null,
            "grid_gap": null,
            "grid_row": null,
            "grid_template_areas": null,
            "grid_template_columns": null,
            "grid_template_rows": null,
            "height": null,
            "justify_content": null,
            "justify_items": null,
            "left": null,
            "margin": null,
            "max_height": null,
            "max_width": null,
            "min_height": null,
            "min_width": null,
            "object_fit": null,
            "object_position": null,
            "order": null,
            "overflow": null,
            "overflow_x": null,
            "overflow_y": null,
            "padding": null,
            "right": null,
            "top": null,
            "visibility": null,
            "width": null
          }
        },
        "bdb6925433df4e8990791168412bf184": {
          "model_module": "@jupyter-widgets/controls",
          "model_name": "DescriptionStyleModel",
          "model_module_version": "1.5.0",
          "state": {
            "_model_module": "@jupyter-widgets/controls",
            "_model_module_version": "1.5.0",
            "_model_name": "DescriptionStyleModel",
            "_view_count": null,
            "_view_module": "@jupyter-widgets/base",
            "_view_module_version": "1.2.0",
            "_view_name": "StyleView",
            "description_width": ""
          }
        }
      }
    }
  },
  "nbformat": 4,
  "nbformat_minor": 5
}