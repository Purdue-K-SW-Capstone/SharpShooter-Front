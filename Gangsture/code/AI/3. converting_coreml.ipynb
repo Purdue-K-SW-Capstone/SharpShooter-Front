{
 "cells": [
  {
   "cell_type": "markdown",
   "id": "87813226",
   "metadata": {},
   "source": [
    "# Converting to CoreML\n",
    "\n",
    "This code is for converting model trained by Keras, Sklearn and Window environment (e.g, h5) to CoreML to import on iOS platform.  \n",
    "There are some libraries to run this code on the first cell, please check it.   \n",
    "It is recommend to run the code with Jupyter Notebook. Run each cell in order.  \n",
    "**This code must be run on mac OS.**\n",
    "\n",
    "- Recommend IDE: Jupyter Notebook, Visual Sutdio Code\n",
    "- Language: **Python 3.10**"
   ]
  },
  {
   "cell_type": "markdown",
   "id": "160b750d",
   "metadata": {},
   "source": [
    "## 1. Import and Load Models"
   ]
  },
  {
   "cell_type": "code",
   "execution_count": null,
   "id": "590fa1fb",
   "metadata": {},
   "outputs": [],
   "source": [
    "# Basic libraries \n",
    "import os\n",
    "import pickle\n",
    "\n",
    "# For models \n",
    "import sklearn\n",
    "import coremltools as ct \n",
    "from xgboost import XGBClassifier\n",
    "from keras.models import load_model\n",
    "import collections.abc\n",
    "\n",
    "# If there are some error like \"cannot import name 'Iterable' from 'collections'\", use the code below\n",
    "#collections.Iterable = collections.abc.Iterable"
   ]
  },
  {
   "cell_type": "code",
   "execution_count": 43,
   "id": "0f2a816f",
   "metadata": {},
   "outputs": [
    {
     "name": "stdout",
     "output_type": "stream",
     "text": [
      "C:\\Users\\mtang\\Desktop\\SW\\@KSW Gangsture\\dolphin/Model/HAND//\n"
     ]
    }
   ],
   "source": [
    "# Get a current path \n",
    "# Configuration: set the specific root and model name\n",
    "path = os.getcwd() + \"/Model/HAND//\" # config \n",
    "print(path) # for checking \n",
    "\n",
    "# Load model\n",
    "loaded_model = pickle.load(open(path+\"1129_model_xgb.h5\", \"rb\")) # config\n",
    "loaded_model # for checking"
   ]
  },
  {
   "cell_type": "code",
   "execution_count": 45,
   "id": "e326b0cb",
   "metadata": {},
   "outputs": [
    {
     "name": "stdout",
     "output_type": "stream",
     "text": [
      "['hand_type', '1_x', '1_y', '1_z', '1_rx', '1_ry', '1_rz', '2_x', '2_y', '2_z', '2_rx', '2_ry', '2_rz', '3_x', '3_y', '3_z', '3_rx', '3_ry', '3_rz', '4_x', '4_y', '4_z', '4_rx', '4_ry', '4_rz', '5_x', '5_y', '5_z', '5_rx', '5_ry', '5_rz', '6_x', '6_y', '6_z', '6_rx', '6_ry', '6_rz', '7_x', '7_y', '7_z', '7_rx', '7_ry', '7_rz', '8_x', '8_y', '8_z', '8_rx', '8_ry', '8_rz', '9_x', '9_y', '9_z', '9_rx', '9_ry', '9_rz', '10_x', '10_y', '10_z', '10_rx', '10_ry', '10_rz', '11_x', '11_y', '11_z', '11_rx', '11_ry', '11_rz', '12_x', '12_y', '12_z', '12_rx', '12_ry', '12_rz', '13_x', '13_y', '13_z', '13_rx', '13_ry', '13_rz', '14_x', '14_y', '14_z', '14_rx', '14_ry', '14_rz', '15_x', '15_y', '15_z', '15_rx', '15_ry', '15_rz', '16_x', '16_y', '16_z', '16_rx', '16_ry', '16_rz', '17_x', '17_y', '17_z', '17_rx', '17_ry', '17_rz', '18_x', '18_y', '18_z', '18_rx', '18_ry', '18_rz', '19_x', '19_y', '19_z', '19_rx', '19_ry', '19_rz', '20_x', '20_y', '20_z', '20_rx', '20_ry', '20_rz', '21_x', '21_y', '21_z', '21_rx', '21_ry', '21_rz']\n"
     ]
    }
   ],
   "source": [
    "# If you want to see input feature neames, use the code below, it is useful to identify the current model\n",
    "#cols = loaded_model.get_booster().feature_names\n",
    "#print(cols)"
   ]
  },
  {
   "cell_type": "markdown",
   "id": "04de5369",
   "metadata": {},
   "source": [
    "## 2. Convert to Coreml \n",
    "\n",
    "Using coreml library, the model is converted as 'mlmodel' format to use on iOS platform."
   ]
  },
  {
   "cell_type": "code",
   "execution_count": null,
   "id": "51363cc3",
   "metadata": {},
   "outputs": [],
   "source": [
    "coreml= ct.converters.xgboost.convert(loaded_model, mode='classifier')"
   ]
  },
  {
   "cell_type": "markdown",
   "id": "cd8ccc7e",
   "metadata": {},
   "source": [
    "## 3. Save Coreml Model"
   ]
  },
  {
   "cell_type": "code",
   "execution_count": 21,
   "id": "e88d288d",
   "metadata": {},
   "outputs": [],
   "source": [
    "coreml.save('1129_coreml.mlmodel')"
   ]
  }
 ],
 "metadata": {
  "kernelspec": {
   "display_name": "mp",
   "language": "python",
   "name": "mp"
  },
  "language_info": {
   "codemirror_mode": {
    "name": "ipython",
    "version": 3
   },
   "file_extension": ".py",
   "mimetype": "text/x-python",
   "name": "python",
   "nbconvert_exporter": "python",
   "pygments_lexer": "ipython3",
   "version": "3.10.8"
  }
 },
 "nbformat": 4,
 "nbformat_minor": 5
}
